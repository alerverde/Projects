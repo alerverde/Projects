{
 "cells": [
  {
   "cell_type": "markdown",
   "metadata": {},
   "source": [
    "# Chemical Physics Lab with Python: Enthalpy of Vaporization Calculation"
   ]
  },
  {
   "cell_type": "markdown",
   "metadata": {},
   "source": [
    "## Objective\n",
    "In this notebook we will to analyze the data from a typical chemical physics lab using Python libraries (Numpy, Matplotlib and Scikit-learn). Our main objective is to calcule the enthalpy of vaporization for water by  applying the Clausius-Clapeyron equation.\n",
    "\n",
    "Since it's not the purpose of this notebook to deeply understand and discuss the fundamentals of the chemical physics concepts needed to do this lab experiment, we assume basic knowledge of the concepts involved.\n"
   ]
  },
  {
   "cell_type": "markdown",
   "metadata": {},
   "source": [
    "## Introduction\n",
    "The enthalpy of vaporization is the amount of energy that must be added to transform a substance from its liquid state into a gas state. In this process, the molecules in the liquid require energy to overcome the attractive forces between the molecules, and to gain enough kinetic energy to escape into the gas phase. The enthalpy of vaporization can be considered constant for small temperature ranges.\n",
    "\n",
    "If we considere a liquid sampe of a pure substance in a closed cointainer, the preassure of the vapor in equilibrium with the liquid is called the vapor pressure. The vapor pressure depends on the nature of the liquid and increases with temperature until the critical temperature is reached. The Clausius-Clapeyron equation expresses the variation of the vapor pressure with temperature.\n",
    "\n",
    "$$ \\frac{\\partial P}{\\partial T} = \\frac{P \\Delta_{vap} H}{R T^2} $$ \n",
    "\n",
    "The indefinite integration of the previous equation leads to:\n",
    "\n",
    "$$ \\ln P = - \\frac{\\Delta_{vap} H}{R T}\n",
    "+ cte $$\n",
    "\n",
    "where $P$ is vapor preassure, $\\Delta_{vap} H$ is the enthalpy of vaporization, $R$ is the gas constant, $T$ is the temperature and $cte$ is the constant of integration.\n",
    "\n",
    "Note: In the derivation of the previous equation, we considered that the volume of the liquid is negligible compared to the volume of the vapor (Clausius approximation), also that the enthalpy of vaporization of the liquid is constant in the range of temperature, and that vapor behaves as an ideal gas.\n",
    "\n",
    "\n",
    "\n",
    "Finally, we will calculate the percent error which is the relative error expressed as a percentage. The relative error is the discrepancy between the exact value and our approximation to it and is calculated by dividing the absolute difference between the approximate value and the true value by the magnitude of the true value.\n",
    "\n",
    "$$ E_r\\% = \\frac{|Predicted~Value - True~Value|}{True~Value} * 100 $$\n",
    "\n",
    "## Procedure\n",
    "\n",
    "As we mentioned before, we will not detail the series of steps needed to obtein all the experimental data. Instead, we will just report resulting values of the measurements taken, which include room temperature, atmospheric preassure, initial volume of the air inside the test tube and temperature at different volumes."
   ]
  },
  {
   "cell_type": "code",
   "execution_count": 1,
   "metadata": {},
   "outputs": [],
   "source": [
    "# Import libraries\n",
    "import pandas as pd\n",
    "import numpy as np\n",
    "from matplotlib import pyplot as plt   \n",
    "from sklearn.linear_model import LinearRegression\n",
    "from sklearn.metrics import mean_squared_error, r2_score"
   ]
  },
  {
   "cell_type": "code",
   "execution_count": 2,
   "metadata": {},
   "outputs": [],
   "source": [
    "# Load the data from the CSV file\n",
    "df=pd.read_csv('/home/alejandrito/mydata/Python/Github/Chemical Physics Lab/Lab_data.csv')"
   ]
  },
  {
   "cell_type": "code",
   "execution_count": 3,
   "metadata": {},
   "outputs": [
    {
     "data": {
      "text/html": [
       "<div>\n",
       "<style scoped>\n",
       "    .dataframe tbody tr th:only-of-type {\n",
       "        vertical-align: middle;\n",
       "    }\n",
       "\n",
       "    .dataframe tbody tr th {\n",
       "        vertical-align: top;\n",
       "    }\n",
       "\n",
       "    .dataframe thead th {\n",
       "        text-align: right;\n",
       "    }\n",
       "</style>\n",
       "<table border=\"1\" class=\"dataframe\">\n",
       "  <thead>\n",
       "    <tr style=\"text-align: right;\">\n",
       "      <th></th>\n",
       "      <th>V</th>\n",
       "      <th>T</th>\n",
       "    </tr>\n",
       "  </thead>\n",
       "  <tbody>\n",
       "    <tr>\n",
       "      <th>0</th>\n",
       "      <td>3.3</td>\n",
       "      <td>60</td>\n",
       "    </tr>\n",
       "    <tr>\n",
       "      <th>1</th>\n",
       "      <td>3.4</td>\n",
       "      <td>62</td>\n",
       "    </tr>\n",
       "    <tr>\n",
       "      <th>2</th>\n",
       "      <td>3.5</td>\n",
       "      <td>64</td>\n",
       "    </tr>\n",
       "    <tr>\n",
       "      <th>3</th>\n",
       "      <td>3.6</td>\n",
       "      <td>66</td>\n",
       "    </tr>\n",
       "    <tr>\n",
       "      <th>4</th>\n",
       "      <td>3.7</td>\n",
       "      <td>67</td>\n",
       "    </tr>\n",
       "  </tbody>\n",
       "</table>\n",
       "</div>"
      ],
      "text/plain": [
       "     V   T\n",
       "0  3.3  60\n",
       "1  3.4  62\n",
       "2  3.5  64\n",
       "3  3.6  66\n",
       "4  3.7  67"
      ]
     },
     "execution_count": 3,
     "metadata": {},
     "output_type": "execute_result"
    }
   ],
   "source": [
    "# A quick look to the CSV file\n",
    "df.head()"
   ]
  },
  {
   "cell_type": "code",
   "execution_count": 4,
   "metadata": {
    "scrolled": true
   },
   "outputs": [
    {
     "name": "stdout",
     "output_type": "stream",
     "text": [
      "<class 'pandas.core.frame.DataFrame'>\n",
      "RangeIndex: 19 entries, 0 to 18\n",
      "Data columns (total 2 columns):\n",
      " #   Column  Non-Null Count  Dtype  \n",
      "---  ------  --------------  -----  \n",
      " 0   V       19 non-null     float64\n",
      " 1   T       19 non-null     int64  \n",
      "dtypes: float64(1), int64(1)\n",
      "memory usage: 432.0 bytes\n"
     ]
    }
   ],
   "source": [
    "# Checking for missing values\n",
    "df.info()"
   ]
  },
  {
   "cell_type": "code",
   "execution_count": 5,
   "metadata": {},
   "outputs": [
    {
     "name": "stdout",
     "output_type": "stream",
     "text": [
      "0     0.0033\n",
      "1     0.0034\n",
      "2     0.0035\n",
      "3     0.0036\n",
      "4     0.0037\n",
      "5     0.0038\n",
      "6     0.0039\n",
      "7     0.0040\n",
      "8     0.0041\n",
      "9     0.0042\n",
      "10    0.0043\n",
      "11    0.0044\n",
      "12    0.0045\n",
      "13    0.0046\n",
      "14    0.0047\n",
      "15    0.0048\n",
      "16    0.0049\n",
      "17    0.0050\n",
      "18    0.0051\n",
      "Name: V, dtype: float64\n"
     ]
    }
   ],
   "source": [
    "# Change volume units from mL to L\n",
    "V = df['V'] / 1000\n",
    "print(V)"
   ]
  },
  {
   "cell_type": "code",
   "execution_count": 6,
   "metadata": {},
   "outputs": [
    {
     "name": "stdout",
     "output_type": "stream",
     "text": [
      "0     333.15\n",
      "1     335.15\n",
      "2     337.15\n",
      "3     339.15\n",
      "4     340.15\n",
      "5     342.15\n",
      "6     343.15\n",
      "7     344.15\n",
      "8     345.15\n",
      "9     346.15\n",
      "10    347.15\n",
      "11    348.15\n",
      "12    348.15\n",
      "13    349.15\n",
      "14    350.15\n",
      "15    351.15\n",
      "16    351.15\n",
      "17    352.15\n",
      "18    352.15\n",
      "Name: T, dtype: float64\n"
     ]
    }
   ],
   "source": [
    "#Change temperature units from degree Celsius to Kelvin\n",
    "T = df['T'] + 273.15\n",
    "print(T)"
   ]
  },
  {
   "cell_type": "markdown",
   "metadata": {},
   "source": [
    "We can calculate the inicial number of mols of air inside the test tube (considering the $P_{vap}$ negligible at room temperature) using the ideal gas equation:\n",
    "\n",
    "$$ n_{air} = \\frac{P_{atm}V} {RT}$$\n",
    "\n",
    "And the $P_{air}$ at each temperature:\n",
    "\n",
    "$$ P_{air} = \\frac{n_{air}RT}{V} $$"
   ]
  },
  {
   "cell_type": "code",
   "execution_count": 7,
   "metadata": {},
   "outputs": [
    {
     "name": "stdout",
     "output_type": "stream",
     "text": [
      "Number of initial air mols: 0.000095\n"
     ]
    }
   ],
   "source": [
    "# Calculate the number of mols of air \n",
    "P_atm = 1 # atm\n",
    "T_room = 295 # K\n",
    "V_initial = 0.0023 # L\n",
    "R = 0.082 # Gas constant in atm L / (K mol)\n",
    "n_air = (P_atm * V_initial) / (R * T_room )\n",
    "print(f'Number of initial air mols: {n_air:.6f}')\n",
    "\n",
    "# Calculate the air pressure at each temperature\n",
    "P_air = (n_air * R * T[:]) / V[:]"
   ]
  },
  {
   "cell_type": "markdown",
   "metadata": {},
   "source": [
    "Then we calculate the air pressure at different temperatures (considering pressure inside the test tube constant and equal to the atmospheric pressure) with the following equation:\n",
    "\n",
    "$P_{vap} = P_{atm} - P_{air}$"
   ]
  },
  {
   "cell_type": "code",
   "execution_count": 8,
   "metadata": {},
   "outputs": [],
   "source": [
    "# Calculate the vapor pressure of water at each temperature\n",
    "P_vap = P_atm - P_air"
   ]
  },
  {
   "cell_type": "code",
   "execution_count": 9,
   "metadata": {},
   "outputs": [],
   "source": [
    "# Compute the natural logarithm of the vapor pressure\n",
    "ln_P_vap = np.log(P_vap)"
   ]
  },
  {
   "cell_type": "code",
   "execution_count": 10,
   "metadata": {},
   "outputs": [],
   "source": [
    "# Transform temperature into 1/T\n",
    "T_inv = 1000  / T[:]"
   ]
  },
  {
   "cell_type": "code",
   "execution_count": 11,
   "metadata": {},
   "outputs": [],
   "source": [
    "# Train the linear regression model\n",
    "model = LinearRegression()\n",
    "# Reshape the input data for the linear regression model using the 'reshape' function to ensure compatibility with scikit-learn's 'LinearRegression' class\n",
    "model.fit(T_inv.values.reshape(-1,1),ln_P_vap.values)\n",
    "# Make predictions using the trained model\n",
    "ln_P_vap_pred = model.predict(T_inv.values.reshape(-1,1))"
   ]
  },
  {
   "cell_type": "code",
   "execution_count": 12,
   "metadata": {},
   "outputs": [
    {
     "data": {
      "image/png": "[encoded data removed]",
      "text/plain": [
       "<Figure size 432x288 with 1 Axes>"
      ]
     },
     "metadata": {
      "needs_background": "light"
     },
     "output_type": "display_data"
    }
   ],
   "source": [
    "#Plot the data and the regression line\n",
    "plt.scatter(T_inv, ln_P_vap,color='g')\n",
    "plt.plot(T_inv, ln_P_vap_pred,color='k')\n",
    "plt.ylabel(r'$\\lnP_{vap}$',fontweight = 'bold', fontsize=18)\n",
    "plt.xlabel(r'$1000/T$',fontweight = 'bold', fontsize=18)\n",
    "plt.show()"
   ]
  },
  {
   "cell_type": "code",
   "execution_count": 13,
   "metadata": {
    "scrolled": true
   },
   "outputs": [
    {
     "name": "stdout",
     "output_type": "stream",
     "text": [
      "Enthalpy of vaporization: 39489.6\n"
     ]
    }
   ],
   "source": [
    "# Enthalpy of vaporization\n",
    "R = 8.314 # Gas constant in J/(K mol)\n",
    "deltaH = - 1000 * R * model.coef_\n",
    "print(f'Enthalpy of vaporization: {float(deltaH):.1f}')"
   ]
  },
  {
   "cell_type": "markdown",
   "metadata": {},
   "source": [
    "The real value for the enthalpy of vaporization at 70&deg;C which is the mean of the range of temperatures is 40656 J/mol."
   ]
  },
  {
   "cell_type": "code",
   "execution_count": 14,
   "metadata": {},
   "outputs": [
    {
     "name": "stdout",
     "output_type": "stream",
     "text": [
      "Percent error : 2.87\n"
     ]
    }
   ],
   "source": [
    "# The real value for the enthalpy of vaporization at 70°C which is the median of the range of temperatures is 40656 J/mol.\n",
    "True_value = 40656 # J/(k mol)\n",
    "# Calculate the relative error\n",
    "\n",
    "Rel_error = 100 * (abs(deltaH - True_value)) / True_value\n",
    "print(f'Percent error : {float(Rel_error):.2f}')"
   ]
  },
  {
   "cell_type": "markdown",
   "metadata": {},
   "source": [
    "This is generally considered to be a small error and indicates that our prediction is fairly accurate.\n",
    "\n",
    "## Conclusion\n",
    "\n",
    "In this notebook we used Python to perform various calculations, such as converting volume units from mL to L, and temperature units from Celsius to Kelvin. We can calculated the initial number of moles of air inside the test tube using the ideal gas equation and then compute the air pressure at each temperature. Next, we used the air pressure at each temperature to calculate the vapor pressure of water using the equation P_vap = P_atm - P_air. We then computed the natural logarithm of the vapor pressure and transformed temperature into 1/T. Finally, we trained a linear regression model using Scikit-learn's \"LinearRegression\" class and plotted the data and the regression line. From this, we obtained the enthalpy of vaporization using the Clausius-Clapeyron equation, and calculated the percent error between our approximation and the exact value."
   ]
  }
 ],
 "metadata": {
  "kernelspec": {
   "display_name": "Python 3",
   "language": "python",
   "name": "python3"
  },
  "language_info": {
   "codemirror_mode": {
    "name": "ipython",
    "version": 3
   },
   "file_extension": ".py",
   "mimetype": "text/x-python",
   "name": "python",
   "nbconvert_exporter": "python",
   "pygments_lexer": "ipython3",
   "version": "3.8.10"
  }
 },
 "nbformat": 4,
 "nbformat_minor": 4
}
